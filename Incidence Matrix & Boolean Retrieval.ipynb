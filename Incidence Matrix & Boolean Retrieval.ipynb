{
 "cells": [
  {
   "cell_type": "markdown",
   "metadata": {},
   "source": [
    "Practical 1:\n",
    "\n",
    "Incidence Matrix & Boolean Retrieval\n",
    "\n",
    "docs = [\"why hello there\", \"omg hello pony\", \"she went there? omg\"]\n",
    "\n",
    "Queries: 1. hello and omg\n",
    "         2. omg or there"
   ]
  },
  {
   "cell_type": "code",
   "execution_count": 7,
   "metadata": {},
   "outputs": [
    {
     "name": "stdout",
     "output_type": "stream",
     "text": [
      "['why', 'hello', 'there', 'omg', 'pony', 'she', 'went']\n"
     ]
    }
   ],
   "source": [
    "import pandas as pd\n",
    "import re\n",
    "\n",
    "documents = [\"why hello there\", \"omg hello pony\", \"she went there? omg\"]\n",
    "keywords = []\n",
    "\n",
    "docs = ' '.join(documents)\n",
    "#print(docs)\n",
    "docs = re.sub('\\W', ' ', docs)\n",
    "#print(docs)\n",
    "docs = docs.split()\n",
    "\n",
    "for word in docs:\n",
    "    if word not in keywords:\n",
    "        keywords.append(word)\n",
    "print(keywords)"
   ]
  },
  {
   "cell_type": "code",
   "execution_count": 15,
   "metadata": {},
   "outputs": [
    {
     "data": {
      "text/html": [
       "<div>\n",
       "<style scoped>\n",
       "    .dataframe tbody tr th:only-of-type {\n",
       "        vertical-align: middle;\n",
       "    }\n",
       "\n",
       "    .dataframe tbody tr th {\n",
       "        vertical-align: top;\n",
       "    }\n",
       "\n",
       "    .dataframe thead th {\n",
       "        text-align: right;\n",
       "    }\n",
       "</style>\n",
       "<table border=\"1\" class=\"dataframe\">\n",
       "  <thead>\n",
       "    <tr style=\"text-align: right;\">\n",
       "      <th></th>\n",
       "      <th>Document 1</th>\n",
       "      <th>Document 2</th>\n",
       "      <th>Document 3</th>\n",
       "    </tr>\n",
       "  </thead>\n",
       "  <tbody>\n",
       "    <tr>\n",
       "      <th>why</th>\n",
       "      <td>1</td>\n",
       "      <td>0</td>\n",
       "      <td>0</td>\n",
       "    </tr>\n",
       "    <tr>\n",
       "      <th>hello</th>\n",
       "      <td>1</td>\n",
       "      <td>1</td>\n",
       "      <td>0</td>\n",
       "    </tr>\n",
       "    <tr>\n",
       "      <th>there</th>\n",
       "      <td>1</td>\n",
       "      <td>0</td>\n",
       "      <td>1</td>\n",
       "    </tr>\n",
       "    <tr>\n",
       "      <th>omg</th>\n",
       "      <td>0</td>\n",
       "      <td>1</td>\n",
       "      <td>1</td>\n",
       "    </tr>\n",
       "    <tr>\n",
       "      <th>pony</th>\n",
       "      <td>0</td>\n",
       "      <td>1</td>\n",
       "      <td>0</td>\n",
       "    </tr>\n",
       "    <tr>\n",
       "      <th>she</th>\n",
       "      <td>0</td>\n",
       "      <td>0</td>\n",
       "      <td>1</td>\n",
       "    </tr>\n",
       "    <tr>\n",
       "      <th>went</th>\n",
       "      <td>0</td>\n",
       "      <td>0</td>\n",
       "      <td>1</td>\n",
       "    </tr>\n",
       "  </tbody>\n",
       "</table>\n",
       "</div>"
      ],
      "text/plain": [
       "       Document 1  Document 2  Document 3\n",
       "why             1           0           0\n",
       "hello           1           1           0\n",
       "there           1           0           1\n",
       "omg             0           1           1\n",
       "pony            0           1           0\n",
       "she             0           0           1\n",
       "went            0           0           1"
      ]
     },
     "execution_count": 15,
     "metadata": {},
     "output_type": "execute_result"
    }
   ],
   "source": [
    "dic = {}\n",
    "\n",
    "for word in keywords:\n",
    "    l = []\n",
    "    for doc in documents:\n",
    "        if word in doc:\n",
    "            l.append(1)\n",
    "        else:\n",
    "            l.append(0)\n",
    "    dic[word] = l\n",
    "#print(dic)\n",
    "\n",
    "df = pd.DataFrame(data = dic, index = [\"Document 1\", \"Document 2\", \"Document 3\"])\n",
    "df.T"
   ]
  },
  {
   "cell_type": "code",
   "execution_count": 18,
   "metadata": {},
   "outputs": [
    {
     "name": "stdout",
     "output_type": "stream",
     "text": [
      "Enter Query: omg or there\n",
      "1 1 1 "
     ]
    }
   ],
   "source": [
    "k1, op, k2 = map(str, input(\"Enter Query: \").split())\n",
    "d = \"Document \"\n",
    "\n",
    "if op == \"and\":\n",
    "    for i in range(3):\n",
    "        print(df[k1][d + str(i + 1)] and df[k2][d + str(i + 1)], end = ' ')\n",
    "elif op == \"or\":\n",
    "    for i in range(3):\n",
    "        print(df[k1][d + str(i + 1)] or df[k2][d + str(i + 1)], end = ' ')\n",
    "else:\n",
    "    print(\"Invalid Operation\")"
   ]
  },
  {
   "cell_type": "markdown",
   "metadata": {},
   "source": [
    "Outputs:\n",
    "\n",
    "Enter Query: hello and omg\n",
    "0 1 0\n",
    "\n",
    "Enter Query: omg or there\n",
    "1 1 1"
   ]
  }
 ],
 "metadata": {
  "kernelspec": {
   "display_name": "Python 3",
   "language": "python",
   "name": "python3"
  },
  "language_info": {
   "codemirror_mode": {
    "name": "ipython",
    "version": 3
   },
   "file_extension": ".py",
   "mimetype": "text/x-python",
   "name": "python",
   "nbconvert_exporter": "python",
   "pygments_lexer": "ipython3",
   "version": "3.7.2"
  }
 },
 "nbformat": 4,
 "nbformat_minor": 2
}

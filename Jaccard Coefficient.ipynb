{
 "cells": [
  {
   "cell_type": "markdown",
   "metadata": {},
   "source": [
    "Jaccard Coefficient\n",
    "\n",
    "Formula: (A u B) / (A n B)"
   ]
  },
  {
   "cell_type": "code",
   "execution_count": 16,
   "metadata": {},
   "outputs": [
    {
     "name": "stdout",
     "output_type": "stream",
     "text": [
      "Enter a Word: bord\n",
      "['board', 'order', 'bordroom', 'lifecycle', 'boring', 'border']\n"
     ]
    }
   ],
   "source": [
    "import pandas as pd\n",
    "\n",
    "query = input(\"Enter a Word: \")\n",
    "words = []\n",
    "\n",
    "with open(\"Dic.txt\", \"r\") as dic:\n",
    "    for line in dic:\n",
    "        words = line.split()\n",
    "print(words)"
   ]
  },
  {
   "cell_type": "code",
   "execution_count": 17,
   "metadata": {},
   "outputs": [
    {
     "name": "stdout",
     "output_type": "stream",
     "text": [
      "{'rd', 'or', 'bo'}\n"
     ]
    }
   ],
   "source": [
    "bq = []\n",
    "\n",
    "for i in range(len(query) - 1):\n",
    "    bq.append(query[i] + query[i + 1])\n",
    "bq = set(bq)\n",
    "print(bq)"
   ]
  },
  {
   "cell_type": "code",
   "execution_count": 19,
   "metadata": {},
   "outputs": [
    {
     "name": "stdout",
     "output_type": "stream",
     "text": [
      "2 / 5 = 0.4\n",
      "2 / 5 = 0.4\n",
      "3 / 7 = 0.42857142857142855\n",
      "0 / 11 = 0.0\n",
      "2 / 6 = 0.3333333333333333\n",
      "3 / 5 = 0.6\n"
     ]
    }
   ],
   "source": [
    "for word in words:\n",
    "    bw = []\n",
    "    for i in range(len(word) - 1):\n",
    "        bw.append(word[i] + word[i + 1])\n",
    "    bw = set(bw)\n",
    "    #print(bw)\n",
    "    u = bq.union(bw)\n",
    "    #print(u)\n",
    "    i = bq.intersection(bw)\n",
    "    #print(i)\n",
    "    print(len(i), '/', len(u), '=', len(i)/len(u))"
   ]
  },
  {
   "cell_type": "code",
   "execution_count": null,
   "metadata": {},
   "outputs": [],
   "source": []
  }
 ],
 "metadata": {
  "kernelspec": {
   "display_name": "Python 3",
   "language": "python",
   "name": "python3"
  },
  "language_info": {
   "codemirror_mode": {
    "name": "ipython",
    "version": 3
   },
   "file_extension": ".py",
   "mimetype": "text/x-python",
   "name": "python",
   "nbconvert_exporter": "python",
   "pygments_lexer": "ipython3",
   "version": "3.7.2"
  }
 },
 "nbformat": 4,
 "nbformat_minor": 2
}
